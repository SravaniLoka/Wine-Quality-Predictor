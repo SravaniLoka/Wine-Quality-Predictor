{
 "cells": [
  {
   "cell_type": "code",
   "execution_count": null,
   "id": "7c7afaf8-9eeb-4e6a-b81b-8bddce4475da",
   "metadata": {},
   "outputs": [],
   "source": [
    "import warnings\n",
    "warnings.filterwarnings('ignore')"
   ]
  },
  {
   "cell_type": "code",
   "execution_count": null,
   "id": "a7a2ee15-80b1-4dec-81ea-ad4c6569c1a0",
   "metadata": {},
   "outputs": [],
   "source": [
    "import pandas as pd\n",
    "import numpy as np\n",
    "import matplotlib.pyplot as plt\n",
    "import seaborn as sns\n",
    "%matplotlib inline"
   ]
  },
  {
   "cell_type": "code",
   "execution_count": null,
   "id": "1cfa97fb-d66c-4259-b408-217754859af3",
   "metadata": {},
   "outputs": [],
   "source": [
    "wine = pd.read_csv(\"../input/red-wine-quality-cortez-et-al-2009/winequality-red.csv\")"
   ]
  },
  {
   "cell_type": "code",
   "execution_count": null,
   "id": "d8aa9d3d-5615-4d3f-a2e4-8d208dd2f9d8",
   "metadata": {},
   "outputs": [],
   "source": [
    "wine.info()"
   ]
  },
  {
   "cell_type": "code",
   "execution_count": null,
   "id": "14705a75-7c63-46f9-9f1c-8d44fc82b91d",
   "metadata": {},
   "outputs": [],
   "source": [
    "wine.describe()"
   ]
  },
  {
   "cell_type": "code",
   "execution_count": null,
   "id": "2d9004a8-bf37-46d7-97b0-10b6ecb06387",
   "metadata": {},
   "outputs": [],
   "source": [
    "wine.shape"
   ]
  },
  {
   "cell_type": "code",
   "execution_count": null,
   "id": "806a92a5-e885-4ae9-94e5-e2648480679c",
   "metadata": {},
   "outputs": [],
   "source": [
    "round(100*(wine.isnull().sum(axis=1)/len(wine)),2).sort_values(ascending=False)"
   ]
  },
  {
   "cell_type": "code",
   "execution_count": null,
   "id": "6b5f6862-add9-4e4d-a917-ca18fdbe4ebb",
   "metadata": {},
   "outputs": [],
   "source": [
    "dub_wine=wine.copy()\n",
    "dub_wine.drop_duplicates(subset=None,inplace=True)"
   ]
  },
  {
   "cell_type": "code",
   "execution_count": null,
   "id": "7b14f0c4-09aa-4b06-826b-afe847dbf53c",
   "metadata": {},
   "outputs": [],
   "source": [
    "dub_wine.shape\n"
   ]
  },
  {
   "cell_type": "code",
   "execution_count": null,
   "id": "9527b203-e064-4117-86a8-2a258896c60a",
   "metadata": {},
   "outputs": [],
   "source": [
    "wine.shape"
   ]
  },
  {
   "cell_type": "code",
   "execution_count": null,
   "id": "8b5c1996-1e53-4f20-a918-bdf4ee54fcf5",
   "metadata": {},
   "outputs": [],
   "source": [
    "wine=dub_wine"
   ]
  },
  {
   "cell_type": "code",
   "execution_count": null,
   "id": "e00ac65b-1e69-4816-a792-9a7c16e09739",
   "metadata": {},
   "outputs": [],
   "source": [
    "for col in wine:\n",
    "    print(wine[col].value_counts(ascending=False), '\\n\\n\\n')"
   ]
  },
  {
   "cell_type": "code",
   "execution_count": null,
   "id": "26f30729-7aa1-492c-be49-68e3fce5dd3f",
   "metadata": {},
   "outputs": [],
   "source": [
    "wine.shape"
   ]
  },
  {
   "cell_type": "code",
   "execution_count": null,
   "id": "c1e8d2e9-827a-4f64-a4c5-50a64f4868aa",
   "metadata": {},
   "outputs": [],
   "source": [
    "wine.info()"
   ]
  },
  {
   "cell_type": "code",
   "execution_count": null,
   "id": "71602c2d-a044-4cbd-9d34-583316d770a8",
   "metadata": {},
   "outputs": [],
   "source": [
    "from sklearn.model_selection import train_test_split\n",
    "np.random.seed(0)\n",
    "df_train,df_test=train_test_split(wine,train_size=0.7,test_size=0.3,random_state=100)"
   ]
  },
  {
   "cell_type": "code",
   "execution_count": null,
   "id": "03d40d26-2cb9-4817-8bbf-28cb4430a73c",
   "metadata": {},
   "outputs": [],
   "source": [
    "df_train.info()"
   ]
  },
  {
   "cell_type": "code",
   "execution_count": null,
   "id": "bb95f35a-a38e-477a-9970-2e4c483251cd",
   "metadata": {},
   "outputs": [],
   "source": [
    "df_train.shape"
   ]
  },
  {
   "cell_type": "code",
   "execution_count": null,
   "id": "ee1c99ab-67fb-4af5-a076-dab20e360c0d",
   "metadata": {},
   "outputs": [],
   "source": [
    "df_test.info()"
   ]
  },
  {
   "cell_type": "code",
   "execution_count": null,
   "id": "71d51023-abaa-4b1b-aafa-279aa93c27c2",
   "metadata": {},
   "outputs": [],
   "source": [
    "df_train.shape"
   ]
  },
  {
   "cell_type": "code",
   "execution_count": null,
   "id": "7d946a96-7314-48d5-97f3-3035d2237d40",
   "metadata": {},
   "outputs": [],
   "source": [
    "df_train.info()"
   ]
  },
  {
   "cell_type": "code",
   "execution_count": null,
   "id": "21d685c0-088e-4ca6-afe5-bd8445bb760d",
   "metadata": {},
   "outputs": [],
   "source": [
    "df_train.columns"
   ]
  },
  {
   "cell_type": "code",
   "execution_count": null,
   "id": "0f0159d0-10a8-48ec-9580-969f1c73207f",
   "metadata": {},
   "outputs": [],
   "source": [
    "sns.pairplot(df_train) \n",
    "plt.show()"
   ]
  },
  {
   "cell_type": "code",
   "execution_count": null,
   "id": "e94ab6de-d2ef-4acc-81ef-ad332b1f0d06",
   "metadata": {},
   "outputs": [],
   "source": [
    "plt.figure(figsize=(20,25))\n",
    "sns.heatmap(wine.corr(), annot=True,cmap='RdBu')\n",
    "plt.show()"
   ]
  },
  {
   "cell_type": "code",
   "execution_count": null,
   "id": "b0add89f-cdba-41e5-9f30-92886786eaed",
   "metadata": {},
   "outputs": [],
   "source": [
    "from sklearn.preprocessing import MinMaxScaler"
   ]
  },
  {
   "cell_type": "code",
   "execution_count": null,
   "id": "ffea60ef-4697-425a-bfac-7e36c7db2007",
   "metadata": {},
   "outputs": [],
   "source": [
    "scaler=MinMaxScaler()"
   ]
  },
  {
   "cell_type": "code",
   "execution_count": null,
   "id": "92ef6688-b83d-46ad-960a-781832fec654",
   "metadata": {},
   "outputs": [],
   "source": [
    "df_train.head()"
   ]
  },
  {
   "cell_type": "code",
   "execution_count": null,
   "id": "fd1261b9-12da-4cbb-9bd1-63eaf8043ad0",
   "metadata": {},
   "outputs": [],
   "source": [
    "df_train.columns"
   ]
  },
  {
   "cell_type": "code",
   "execution_count": null,
   "id": "b3035382-2b15-4c95-9de0-0dfeb539f0fc",
   "metadata": {},
   "outputs": [],
   "source": [
    "df_train[:]=scaler.fit_transform(df_train[:])"
   ]
  },
  {
   "cell_type": "code",
   "execution_count": null,
   "id": "413ee830-ff45-4883-b093-2994d6293765",
   "metadata": {},
   "outputs": [],
   "source": [
    "df_train.head()"
   ]
  },
  {
   "cell_type": "code",
   "execution_count": null,
   "id": "d0ba240f-e86c-4a98-b3b0-658e5060c60d",
   "metadata": {},
   "outputs": [],
   "source": [
    "y_train=df_train.pop('quality')\n",
    "X_train=df_train"
   ]
  },
  {
   "cell_type": "code",
   "execution_count": null,
   "id": "1003c334-b98c-4f58-8818-de9ddd0c42d1",
   "metadata": {},
   "outputs": [],
   "source": [
    "from sklearn.feature_selection import RFE\n",
    "from sklearn.linear_model import LinearRegression"
   ]
  },
  {
   "cell_type": "code",
   "execution_count": null,
   "id": "ed8cf924-3c20-4e98-94da-a155f8fa0c7a",
   "metadata": {},
   "outputs": [],
   "source": [
    "lm = LinearRegression()\n",
    "lm.fit(X_train, y_train)\n",
    "rfe = RFE(lm,9)             \n",
    "rfe = rfe.fit(X_train, y_train)"
   ]
  },
  {
   "cell_type": "code",
   "execution_count": null,
   "id": "725b2688-0864-46e4-851b-290997ecc880",
   "metadata": {},
   "outputs": [],
   "source": [
    "list(zip(X_train.columns,rfe.support_,rfe.ranking_))"
   ]
  },
  {
   "cell_type": "code",
   "execution_count": null,
   "id": "c5766efc-5b16-4575-b28b-e27f744c44de",
   "metadata": {},
   "outputs": [],
   "source": [
    "list(zip(X_train.columns,rfe.support_,rfe.ranking_))"
   ]
  },
  {
   "cell_type": "code",
   "execution_count": null,
   "id": "1b27c0ac-d93e-4216-9ce3-0a504e75ed2c",
   "metadata": {},
   "outputs": [],
   "source": [
    "col = X_train.columns[rfe.support_]\n",
    "col"
   ]
  },
  {
   "cell_type": "code",
   "execution_count": null,
   "id": "9b8128ac-c02e-4a25-a1bc-a37d82e4f8d9",
   "metadata": {},
   "outputs": [],
   "source": [
    "X_train.columns[~rfe.support_]"
   ]
  },
  {
   "cell_type": "code",
   "execution_count": null,
   "id": "0160e671-e2f4-4d9f-9878-eab8f0294625",
   "metadata": {},
   "outputs": [],
   "source": [
    "X_train_rfe = X_train[col]"
   ]
  },
  {
   "cell_type": "code",
   "execution_count": null,
   "id": "e934a5b9-6da9-4c22-a5df-e45b062756d1",
   "metadata": {},
   "outputs": [],
   "source": [
    "from statsmodels.stats.outliers_influence import variance_inflation_factor\n",
    "vif = pd.DataFrame()\n",
    "vif['Features'] = X_train_rfe.columns\n",
    "vif['VIF'] = [variance_inflation_factor(X_train_rfe.values, i) for i in range(X_train_rfe.shape[1])]\n",
    "vif['VIF'] = round(vif['VIF'], 2)\n",
    "vif = vif.sort_values(by = \"VIF\", ascending = False)\n",
    "vif"
   ]
  },
  {
   "cell_type": "code",
   "execution_count": null,
   "id": "e8bfdf0c-59af-4729-b2b3-2996f131f6c7",
   "metadata": {},
   "outputs": [],
   "source": [
    "import statsmodels.api as sm\n",
    "X_train_lm1 = sm.add_constant(X_train_rfe)\n",
    "lr1 = sm.OLS(y_train, X_train_lm1).fit()"
   ]
  },
  {
   "cell_type": "code",
   "execution_count": null,
   "id": "22b480e8-e9a2-4a97-aefd-fa8b1552eff0",
   "metadata": {},
   "outputs": [],
   "source": [
    "lr1.params"
   ]
  },
  {
   "cell_type": "code",
   "execution_count": null,
   "id": "99fc0318-9921-4347-b1d2-95ddc28c9c4e",
   "metadata": {},
   "outputs": [],
   "source": [
    "print(lr1.summary())"
   ]
  }
 ],
 "metadata": {
  "kernelspec": {
   "display_name": "Python 3 (ipykernel)",
   "language": "python",
   "name": "python3"
  },
  "language_info": {
   "codemirror_mode": {
    "name": "ipython",
    "version": 3
   },
   "file_extension": ".py",
   "mimetype": "text/x-python",
   "name": "python",
   "nbconvert_exporter": "python",
   "pygments_lexer": "ipython3",
   "version": "3.12.0"
  }
 },
 "nbformat": 4,
 "nbformat_minor": 5
}
